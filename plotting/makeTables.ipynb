{
 "cells": [
  {
   "cell_type": "code",
   "execution_count": 1,
   "id": "e7748938-5b6f-40b2-82e6-73878ef2ad66",
   "metadata": {},
   "outputs": [],
   "source": [
    "import ROOT\n",
    "import uproot\n",
    "import numpy as np\n",
    "import matplotlib.pyplot as plt\n",
    "import matplotlib.colors as LogNorm\n",
    "import matplotlib.ticker as ticker\n",
    "import math\n",
    "import pandas as pd"
   ]
  },
  {
   "cell_type": "code",
   "execution_count": 101,
   "id": "91bb3602-914f-4f95-9001-58a488d8753b",
   "metadata": {},
   "outputs": [
    {
     "name": "stdout",
     "output_type": "stream",
     "text": [
      "Cuts & Cut Value & $d(e, e'\\pi^+)$ survival [%] & $d(e, e'\\pi^-)$ survival [%] \\\\ \n",
      "Event Builder $d(e, e^{\\prime}\\pi)$ in FD\t30.1\t 43.1\n",
      "Electron Drift Chamber Fiducial Cuts\t91.0\t 91.1\n",
      "PCAL Fiducial Cuts\t61.8\t 60.7\n",
      "PCAL minimun energy deposition\t99.8\t 99.9\n",
      "Electron Calorimetery Sampling Fraction (SF)\t98.0\t 98.4\n",
      "SF Correlation Cut\t98.5\t 98.4\n",
      "$e^-$ $z$-vertex position\t93.7\t 93.7\n",
      "Pion Drift Chamber Fiducial Cuts\t67.2\t 55.3\n",
      "$\\pi - e$ Relative $z$-vertex position\t86.5\t 84.5\n"
     ]
    }
   ],
   "source": [
    "#Make event counts table\n",
    "cnts_1 = pd.read_csv(\"../histograms/analysis_note/selection_plots_10.2.txt\" ,sep='\\t')\n",
    "cnts_1 = cnts_1.set_index('Unnamed: 0')\n",
    "#print(cnts_1)\n",
    "cnts_2 = pd.read_csv(\"../histograms/analysis_note/selection_plots_10.4.txt\" ,sep='\\t')\n",
    "cnts_2 = cnts_2.set_index('Unnamed: 0')\n",
    "cnts_3 = pd.read_csv(\"../histograms/analysis_note/selection_plots_10.6.txt\" ,sep='\\t')\n",
    "cnts_3 = cnts_3.set_index('Unnamed: 0')\n",
    "\n",
    "\n",
    "cuts = cnts_1.index.to_list()\n",
    "desc = [['All tracks in forward detector (FD)', ' '],\n",
    "        [r'Event Builder $d(e, e^{\\prime}\\pi)$ in FD', ' '],\n",
    "        ['Electron Drift Chamber Fiducial Cuts', r' See \\Cref{sec:DC fiducial cuts}'],\n",
    "        ['PCAL Fiducial Cuts', r'$V_{PCAL} > 19$ cm, $W_{PCAL} > 19$ cm'],\n",
    "        ['PCAL minimun energy deposition', r'$PCAL_{Edep} > 70$ MeV'],\n",
    "        ['Electron Calorimetery Sampling Fraction (SF)', r'See \\Cref{sec:Calorimetry sampling fraction cut}'],\n",
    "        ['SF Correlation Cut', r'$\\frac{E_{ECIN}}{p_e} > 0.2 - \\frac{E_{PCAL}}{p_e}$ for $p_e > 4.5$ [GeV]'],\n",
    "        [r'$e^-$ $z$-vertex position', r'$-4 < v_z^e < -1$ [cm]$'],\n",
    "        [r'Pion Drift Chamber Fiducial Cuts', r'See \\Cref{sec:DC fiducial cuts}'],\n",
    "        [r'$\\pi - e$ Relative $z$-vertex position', r'$-7 < |v_z^{\\pi^+} - v_z^e| < 4$ and $-5 < |v_z^{\\pi^-} - v_z^e| < 4$'],\n",
    "        [r'Pion EB $\\chi^2$ Cut', r'See \\Cref{eq:chi2PID_pi} ']]\n",
    "    \n",
    "           \n",
    "cnts = np.asarray(cnts_1 + cnts_2 + cnts_3) \n",
    "\n",
    "print( r\"Cuts & Cut Value & $d(e, e'\\pi^+)$ survival [%] & $d(e, e'\\pi^-)$ survival [%] \\\\ \")\n",
    "\n",
    "for i in range(1, len( np.asarray(cnts_1) ) - 1):\n",
    "    pip_rat = 100*cnts[i][0]/cnts[i-1][0]\n",
    "    pim_rat = 100*cnts[i][1]/cnts[i-1][1]\n",
    "    #print(desc[i][0]+' & '+desc[i][1]+f' & {pip_rat:0.1f} & {pim_rat:0.1f}\\\\\\\\')\n",
    "    print(desc[i][0]+f'\\t{pip_rat:0.1f}\\t {pim_rat:0.1f}')\n",
    "    #print(r'\\hline')\n",
    "#    if i == 2:\n",
    "#        print(r'\\multicolumn{4}{|c|}{\\added{Electron Cuts}}\\\\\\\\')\n",
    "#        print(r'\\hline')\n",
    "#    if i == 6:\n",
    "#        print(r'\\multicolumn{4}{|c|}{\\added{Pion Cuts}}\\\\\\\\')\n",
    "#        print(r'\\hline')\n"
   ]
  },
  {
   "cell_type": "code",
   "execution_count": 104,
   "id": "3ce46db8-7210-4fd2-ae4f-8af2f9ac1796",
   "metadata": {},
   "outputs": [
    {
     "name": "stdout",
     "output_type": "stream",
     "text": [
      "   Unnamed: 0  (e,e'pi+)  #(e,e'pi-)\n",
      "0  All events  174108127    71270060\n",
      "1          W2  156909048    63025403\n",
      "2          Q2  124140909    50476742\n",
      "3           y   75900172    32529195\n",
      "4          Mx   71906475    30855130\n",
      "5        p_pi   37788067    16690433\n",
      "6     theta_e   37788067    16690433\n",
      "7    theta_pi   37776405    16682422\n",
      "\\multicolumn{4}{|c|}{\\added{$(e, e^{\\prime}\\pi)$ Kinematic Cuts}}\\\\\n",
      "\\hline\n",
      "$W > 2.5$ [GeV/c$^2$]   \t89.7 \t 87.9\n",
      "$Q^2 > 2$ (GeV/c)$^2$   \t78.2 \t 79.2\n",
      "$y < 0.75$   \t60.8 \t 64.1\n",
      "$M_X > 1.7$ GeV/c$^2$   \t94.7 \t 94.8\n",
      "$1.25 < p_{\\pi} < 5$ GeV/c   \t52.3 \t 54.0\n",
      "$5 < \\theta_e < 35$ [deg.]   \t100.0 \t 100.0\n",
      "$5 < \\theta_{\\pi} < 35$ [deg.]   \t100.0 \t 100.0\n"
     ]
    }
   ],
   "source": [
    "kcnts_1 = pd.read_csv(\"../histograms/analysis_note/kinematic_cuts_10.2.txt\" ,sep='\\t')\n",
    "kcnts_1 = kcnts_1.set_index('Unnamed: 0')\n",
    "kcnts_2 = pd.read_csv(\"../histograms/analysis_note/kinematic_cuts_10.4.txt\" ,sep='\\t')\n",
    "kcnts_2 = kcnts_2.set_index('Unnamed: 0')\n",
    "kcnts_3 = pd.read_csv(\"../histograms/analysis_note/kinematic_cuts_10.6.txt\" ,sep='\\t')\n",
    "print(kcnts_3)\n",
    "kcnts_3 = kcnts_3.set_index('Unnamed: 0')\n",
    "\n",
    "kcnts = np.asarray(kcnts_3 + kcnts_2 + kcnts_3) \n",
    "\n",
    "kin_desc = [['All events', ' '],\n",
    "            ['Enhance DIS contribution', r'$W > 2.5$ [GeV/c$^2$]'],\n",
    "            ['Enhance DIS contribution', r'$Q^2 > 2$ (GeV/c)$^2$'],\n",
    "            [r'Suppress radiative elastic and quasi-elastic tails, as well as $\\pi^-$ contamination', r'$y < 0.75$'],\n",
    "            [r'Reduce contamination by exclusive precesses', r'$M_X > 1.7$ GeV/c$^2$'],\n",
    "            [r'Suppress kaon contamination in pion sample', r'$1.25 < p_{\\pi} < 5$ GeV/c'],\n",
    "            [r'Focus on high acceptance in the HTCC', r'$5 < \\theta_e < 35$ [deg.]'],\n",
    "            [r'Focus on high acceptance in the HTCC', r'$5 < \\theta_{\\pi} < 35$ [deg.]'],\n",
    "            [r'Leading outgoing pions', r'$z > 0.3$'],\n",
    "            [r'$\\pi^{\\pm}$ acceptance matching', r'See \\Cref{sec:piplus and piminus acceptance matching cut}']]\n",
    "\n",
    "print(r'\\multicolumn{4}{|c|}{\\added{$(e, e^{\\prime}\\pi)$ Kinematic Cuts}}\\\\')\n",
    "print(r'\\hline')\n",
    "\n",
    "for i in range(1, len( np.asarray(kcnts_1) )):\n",
    "    pip_rat = 100*kcnts[i][0]/kcnts[i-1][0]\n",
    "    pim_rat = 100*kcnts[i][1]/kcnts[i-1][1]\n",
    "    #print(kin_desc[i][0]+' &'+kin_desc[i][1]+f' &{pip_rat:0.1f} & {pim_rat:0.1f}\\\\\\\\')\n",
    "    #print(r'\\hline')\n",
    "    print(kin_desc[i][1]+f'   \\t{pip_rat:0.1f} \\t {pim_rat:0.1f}')\n",
    "    \n"
   ]
  },
  {
   "cell_type": "code",
   "execution_count": 37,
   "id": "fb071fb9-773d-45a2-88bc-bd4372365bdc",
   "metadata": {},
   "outputs": [
    {
     "name": "stdout",
     "output_type": "stream",
     "text": [
      "\\hline\n",
      "& \\multicolumn{4}{|c|}{$\\pi^{+}$} & \\multicolumn{4}{|c|}{$\\pi^{-}$} \\\\\n",
      "\\hline\n",
      "Sector & $a_{min}$ & $b_{min}$ & $a_{max}$ & $b_{max}$ & $a_{min}$ & $b_{min}$ & $a_{max}$ & $b_{max}$ \\\\\n",
      "\\hline\n",
      "Sector 1 & 5.82 & 1.83 & 8.99 & 50.20 & 6.85 & 12.72 & 9.09 & 51.68\\\\\n",
      "Sector 2 & 5.85 & 1.76 & 9.13 & 49.99 & 6.91 & 12.57 & 9.09 & 51.73\\\\\n",
      "Sector 3 & 5.91 & 1.34 & 10.15 & 46.06 & 6.84 & 12.88 & 9.33 & 51.21\\\\\n",
      "Sector 4 & 5.85 & 1.50 & 9.63 & 47.75 & 6.82 & 12.80 & 9.16 & 51.61\\\\\n",
      "Sector 5 & 5.73 & 1.83 & 9.09 & 49.84 & 6.83 & 12.69 & 9.18 & 51.39\\\\\n",
      "Sector 6 & 5.80 & 1.75 & 8.96 & 50.33 & 6.83 & 12.47 & 8.84 & 52.10\\\\\n",
      "\\hline\n"
     ]
    }
   ],
   "source": [
    "#Acceptance Matching Parameters\n",
    "\n",
    "inFile_R = ROOT.TFile.Open('../data/acceptance_matching/matchCut2D.root', 'READ')\n",
    "nSec=6\n",
    "ch_string = ['pip', 'pim']\n",
    "print( r\"\\hline\") \n",
    "print( r\"& \\multicolumn{4}{|c|}{$\\pi^{+}$} & \\multicolumn{4}{|c|}{$\\pi^{-}$} \\\\\")\n",
    "print( r\"\\hline\") \n",
    "print(r\"Sector & $a_{min}$ & $b_{min}$ & $a_{max}$ & $b_{max}$ & $a_{min}$ & $b_{min}$ & $a_{max}$ & $b_{max}$ \\\\\")\n",
    "print(r\"\\hline\")\n",
    "for sec in range(nSec):\n",
    "\n",
    "    fMax = np.empty( 2, dtype='object')\n",
    "    fMin = np.empty( 2, dtype='object') \n",
    "\n",
    "    max_params = np.empty( 2, dtype='object')\n",
    "    min_params = np.empty( 2, dtype='object')\n",
    "\t\n",
    "\t\n",
    "    max_vals = np.empty( 2, dtype='object')\n",
    "    min_vals = np.empty( 2, dtype='object')\n",
    "\n",
    "    for i in range(2):\n",
    "        if nSec == 1:\t\n",
    "            fMax[i] = inFile_R.Get( \"max_0\"+ch_string[i] )\n",
    "            fMin[i] = inFile_R.Get( \"min_0\"+ch_string[i] )\n",
    "        else:\n",
    "            fMax[i] = inFile_R.Get( f\"max_{sec}_{ch_string[i]}\" )\n",
    "            fMin[i] = inFile_R.Get( f\"min_{sec}_{ch_string[i]}\" )\n",
    "        max_params[i] = [fMax[i].GetParameter(j) for j in range(2)]\n",
    "        min_params[i] = [fMin[i].GetParameter(j) for j in range(2)]\n",
    "\n",
    "    print( f\"Sector {sec+1} & {min_params[0][0]:0.2f} & {min_params[0][1]:0.2f} & {max_params[0][0]:0.2f} & {max_params[0][1]:0.2f} & {min_params[1][0]:0.2f} & {min_params[1][1]:0.2f} & {max_params[1][0]:0.2f} & {max_params[1][1]:0.2f}\\\\\\\\\" )\n",
    "print( r\"\\hline\") "
   ]
  },
  {
   "cell_type": "code",
   "execution_count": 49,
   "id": "e82ef70a-78ce-4cb5-bf9c-60f7bd646feb",
   "metadata": {},
   "outputs": [
    {
     "name": "stdout",
     "output_type": "stream",
     "text": [
      "\\hline\n",
      " & $a_{min}$ & $b_{min}$ & $a_{max}$ & $b_{max}$ \\\\\n",
      "\\hline\n",
      "$\\pi^+$ & 16.99 & -7.08 & 16.99 & -7.08\\\\\n",
      "$\\pi^-$ & 17.04 & 8.50 & 17.04 & 8.50\\\\\n",
      "\\hline\n"
     ]
    }
   ],
   "source": [
    "#Acceptance Matching Parameters\n",
    "\n",
    "inFile_R = ROOT.TFile.Open('../data/acceptance_matching/matchCutPi2K.root', 'READ')\n",
    "nSec=1\n",
    "ch_string = ['pip', 'pim']\n",
    "print( r\"\\hline\") \n",
    "#print( r\"& \\multicolumn{4}{|c|}{$h^{+}$} & \\multicolumn{4}{|c|}{$h^{-}$} \\\\\")\n",
    "#print( r\"\\hline\") \n",
    "print(r\" & $a_{min}$ & $b_{min}$ & $a_{max}$ & $b_{max}$ \\\\\")\n",
    "print(r\"\\hline\")\n",
    "for sec in range(nSec):\n",
    "\n",
    "    fMax = np.empty( 2, dtype='object')\n",
    "    fMin = np.empty( 2, dtype='object') \n",
    "\n",
    "    max_params = np.empty( 2, dtype='object')\n",
    "    min_params = np.empty( 2, dtype='object')\n",
    "\t\n",
    "\t\n",
    "    max_vals = np.empty( 2, dtype='object')\n",
    "    min_vals = np.empty( 2, dtype='object')\n",
    "\n",
    "    for i in range(2):\n",
    "        if nSec == 1:\t\n",
    "            fMax[i] = inFile_R.Get( f\"max_{0}_{ch_string[i]}\" )\n",
    "            fMin[i] = inFile_R.Get( f\"max_{0}_{ch_string[i]}\" )\n",
    "        else:\n",
    "            fMax[i] = inFile_R.Get( f\"max_{sec}_{ch_string[i]}\" )\n",
    "            fMin[i] = inFile_R.Get( f\"min_{sec}_{ch_string[i]}\" )\n",
    "        max_params[i] = [fMax[i].GetParameter(j) for j in range(2)]\n",
    "        min_params[i] = [fMin[i].GetParameter(j) for j in range(2)]\n",
    "\n",
    "    print( rf\"$\\pi^+$ & {min_params[0][0]:0.2f} & {min_params[0][1]:0.2f} & {max_params[0][0]:0.2f} & {max_params[0][1]:0.2f}\\\\\" )\n",
    "    print( rf\"$\\pi^-$ & {min_params[1][0]:0.2f} & {min_params[1][1]:0.2f} & {max_params[1][0]:0.2f} & {max_params[1][1]:0.2f}\\\\\" )\n",
    "print( r\"\\hline\") "
   ]
  },
  {
   "cell_type": "code",
   "execution_count": 48,
   "id": "a36e645d-b989-4d71-b8e3-55fe6738fc92",
   "metadata": {},
   "outputs": [
    {
     "name": "stdout",
     "output_type": "stream",
     "text": [
      "$K^+$ & $16.92$ & $-6.72$ & $16.92$ & $-6.72$\\\\\n",
      "$K^-$ & $17.26$ & $7.90$ & $17.26$ & $7.90$\\\\\n",
      "\\hline\n"
     ]
    }
   ],
   "source": [
    "inFile_R = ROOT.TFile.Open('../data/acceptance_matching/matchCutK2Pi.root', 'READ')\n",
    "nSec=1\n",
    "ch_string = ['pip', 'pim']\n",
    "\n",
    "for sec in range(nSec):\n",
    "\n",
    "    fMax = np.empty( 2, dtype='object')\n",
    "    fMin = np.empty( 2, dtype='object') \n",
    "\n",
    "    max_params = np.empty( 2, dtype='object')\n",
    "    min_params = np.empty( 2, dtype='object')\n",
    "\t\n",
    "\t\n",
    "    max_vals = np.empty( 2, dtype='object')\n",
    "    min_vals = np.empty( 2, dtype='object')\n",
    "\n",
    "    for i in range(2):\n",
    "        if nSec == 1:\t\n",
    "            fMax[i] = inFile_R.Get( f\"max_{0}_{ch_string[i]}\" )\n",
    "            fMin[i] = inFile_R.Get( f\"max_{0}_{ch_string[i]}\" )\n",
    "        else:\n",
    "            fMax[i] = inFile_R.Get( f\"max_{sec}_{ch_string[i]}\" )\n",
    "            fMin[i] = inFile_R.Get( f\"min_{sec}_{ch_string[i]}\" )\n",
    "        max_params[i] = [fMax[i].GetParameter(j) for j in range(2)]\n",
    "        min_params[i] = [fMin[i].GetParameter(j) for j in range(2)]\n",
    "\n",
    "    print( rf\"$K^+$ & ${min_params[0][0]:0.2f}$ & ${min_params[0][1]:0.2f}$ & ${max_params[0][0]:0.2f}$ & ${max_params[0][1]:0.2f}$\\\\\" )\n",
    "    print( rf\"$K^-$ & ${min_params[1][0]:0.2f}$ & ${min_params[1][1]:0.2f}$ & ${max_params[1][0]:0.2f}$ & ${max_params[1][1]:0.2f}$\\\\\" )\n",
    "print( r\"\\hline\") "
   ]
  },
  {
   "cell_type": "code",
   "execution_count": null,
   "id": "8bb2e279-114a-42a1-b776-3c3599ab0431",
   "metadata": {},
   "outputs": [],
   "source": []
  }
 ],
 "metadata": {
  "kernelspec": {
   "display_name": "Python 3 (ipykernel)",
   "language": "python",
   "name": "python3"
  },
  "language_info": {
   "codemirror_mode": {
    "name": "ipython",
    "version": 3
   },
   "file_extension": ".py",
   "mimetype": "text/x-python",
   "name": "python",
   "nbconvert_exporter": "python",
   "pygments_lexer": "ipython3",
   "version": "3.13.2"
  }
 },
 "nbformat": 4,
 "nbformat_minor": 5
}
